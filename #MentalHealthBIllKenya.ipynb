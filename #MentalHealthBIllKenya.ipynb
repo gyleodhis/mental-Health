{
 "cells": [
  {
   "cell_type": "markdown",
   "metadata": {},
   "source": [
    "## The State of Mental Health in Kenya\n",
    "### An analysis of Kenyans' expressions on Mental Health Bill \n",
    "\n",
    "### [@gyleodhis](https://www.twitter.com/gyleodhis)\n",
    "### ![Kenya](./static/kenya.png)"
   ]
  },
  {
   "cell_type": "markdown",
   "metadata": {},
   "source": [
    "## Authorizing an application to access Twitter account data"
   ]
  },
  {
   "cell_type": "code",
   "execution_count": 3,
   "metadata": {},
   "outputs": [
    {
     "name": "stdout",
     "output_type": "stream",
     "text": [
      "<twitter.api.Twitter object at 0x7fa35c3d0048>\n"
     ]
    }
   ],
   "source": [
    "import twitter\n",
    "\n",
    "CONSUMER_KEY = '' #Intentionaly removed\n",
    "CONSUMER_SECRET = '' #Intentionaly removed\n",
    "OAUTH_TOKEN = '' #Intentionaly removed\n",
    "OAUTH_TOKEN_SECRET = '' #Intentionaly removed\n",
    "\n",
    "auth = twitter.oauth.OAuth(OAUTH_TOKEN, OAUTH_TOKEN_SECRET,\n",
    "                           CONSUMER_KEY, CONSUMER_SECRET)\n",
    "\n",
    "twitter_api = twitter.Twitter(auth=auth)\n",
    "\n",
    "print(twitter_api) # This confirms connection to twitter api"
   ]
  },
  {
   "cell_type": "markdown",
   "metadata": {},
   "source": [
    "## Retrieving trends\n",
    "\n",
    "First we need to identify what are the trending topics in two major cities in Kenya and then try to find a relationship between these tweets and the resently passed MENTAL HEALTH BILL."
   ]
  },
  {
   "cell_type": "code",
   "execution_count": 10,
   "metadata": {},
   "outputs": [
    {
     "name": "stdout",
     "output_type": "stream",
     "text": [
      "\n"
     ]
    }
   ],
   "source": [
    "# The Yahoo! Where On Earth ID for the entire world is 1.\n",
    "# See https://dev.twitter.com/docs/api/1.1/get/trends/place and\n",
    "# http://developer.yahoo.com/geo/geoplanet/\n",
    "Nairobi_ID = 1528488\n",
    "Mombasa_ID = 1528335\n",
    "\n",
    "# Prefix ID with the underscore for query string parameterization.\n",
    "# Without the underscore, the twitter package appends the ID value\n",
    "# to the URL itself as a special case keyword argument.\n",
    "nairobi_trends = twitter_api.trends.place(_id=Nairobi_ID)\n",
    "mombasa_trends = twitter_api.trends.place(_id=Mombasa_ID)\n",
    "#print(nairobi_trends)\n",
    "print()\n",
    "#print(mombasa_trends)"
   ]
  },
  {
   "cell_type": "markdown",
   "metadata": {},
   "source": [
    "### Topics Trending in the city of Nairobi"
   ]
  },
  {
   "cell_type": "code",
   "execution_count": 6,
   "metadata": {
    "scrolled": true
   },
   "outputs": [
    {
     "name": "stdout",
     "output_type": "stream",
     "text": [
      "#Turkanadrought\n",
      "#mightiestprophetinnairobi\n",
      "Kindly\n",
      "Ruto\n",
      "Shame\n",
      "Baringo\n",
      "#WeCannotIgnore\n",
      "#TuesdayThoughts\n",
      "#AMLiveNTV\n",
      "DCI Kinoti\n",
      "Cuba\n",
      "Ekeza Sacco\n",
      "Linus Kaikai\n",
      "Kenyans\n",
      "kenyatta university\n",
      "M-Pesa\n",
      "James Oduor\n",
      "Maseno University\n",
      "Patrick Hinga\n",
      "Pastor Ng'ang'a\n",
      "Wanja\n",
      "The E Review\n",
      "#AdelleAndShaffieOnKISS\n",
      "#BeyondPressConfrences\n",
      "#JeffAndHamoOnHot\n",
      "#Brekko\n",
      "#SpencerBuyingJustice\n",
      "#AlexNaJalas\n",
      "#NyakundiStrong\n",
      "#MainaAndKingangi\n",
      "#GMITM\n",
      "#BarakaZaQwetu\n",
      "#Breakfast984\n",
      "#BillyNaTricky\n",
      "#BarakaZaMilele\n",
      "#mondaymotivation\n",
      "#NyakundiTheLiar\n",
      "#SautiYaMayouths\n",
      "#PrisonDiaries\n",
      "#presspass\n",
      "#mondaythoughts\n",
      "#Sirkal\n",
      "#MondayReport\n",
      "#totalcafcc\n",
      "#Messi\n",
      "#Home4MauMauHeroes\n",
      "#KTNMorningExpress\n",
      "#DayBreak\n",
      "#NTVTonight\n",
      "#helpachildreach5\n"
     ]
    }
   ],
   "source": [
    "for trend in nairobi_trends[0]['trends']:\n",
    "    print(trend['name'])"
   ]
  },
  {
   "cell_type": "markdown",
   "metadata": {},
   "source": [
    "### Topics Trending in the City of Mombasa"
   ]
  },
  {
   "cell_type": "code",
   "execution_count": 7,
   "metadata": {},
   "outputs": [
    {
     "name": "stdout",
     "output_type": "stream",
     "text": [
      "#AdelleAndShaffieOnKISS\n",
      "Turkana\n",
      "#TheScoreKE\n",
      "#WeCannotIgnore\n",
      "#TuesdayThoughts\n",
      "#AMLiveNTV\n",
      "DCI Kinoti\n",
      "Cuba\n",
      "Ekeza Sacco\n",
      "Linus Kaikai\n",
      "Kenyans\n",
      "kenyatta university\n",
      "M-Pesa\n",
      "James Oduor\n",
      "Maseno University\n",
      "Patrick Hinga\n",
      "Pastor Ng'ang'a\n",
      "Wanja\n",
      "The E Review\n",
      "Nanok\n",
      "James Ng'ang'a\n",
      "everton\n",
      "#BeyondPressConfrences\n",
      "#JeffAndHamoOnHot\n",
      "#Brekko\n",
      "#SpencerBuyingJustice\n",
      "#AlexNaJalas\n",
      "#NyakundiStrong\n",
      "#MainaAndKingangi\n",
      "#GMITM\n",
      "#BarakaZaQwetu\n",
      "#Breakfast984\n",
      "#BillyNaTricky\n",
      "#BarakaZaMilele\n",
      "#mondaymotivation\n",
      "#NyakundiTheLiar\n",
      "#mightiestprophetinnairobi\n",
      "#SautiYaMayouths\n",
      "#PrisonDiaries\n",
      "#presspass\n",
      "#mondaythoughts\n",
      "#Sirkal\n",
      "#MondayReport\n",
      "#totalcafcc\n",
      "#Messi\n",
      "#Home4MauMauHeroes\n",
      "#KTNMorningExpress\n",
      "#DayBreak\n",
      "#NTVTonight\n",
      "#helpachildreach5\n"
     ]
    }
   ],
   "source": [
    "for trend in mombasa_trends[0]['trends']:\n",
    "    print(trend['name'])"
   ]
  },
  {
   "cell_type": "markdown",
   "metadata": {},
   "source": [
    "### Common Trends in relation to Mental Health.\n",
    "##### #SautiYaMayouths (The voice of the youths)\n",
    "#### #presspass\n",
    "#### #MondayReport\n",
    "#### #mondaymotivation\n",
    "#### Kenyatta University (increased suicides in the university)\n",
    "#### #TheScoreKE\n",
    "#### #WeCannotIgnore (In relation to Kenyatta University)\n",
    "#### #TuesdayThoughts"
   ]
  },
  {
   "cell_type": "markdown",
   "metadata": {},
   "source": [
    "# #MentalHealthBillKe analysis\n",
    "After Seversl dull incidences in relation to mental health happening throught the country, a bill was tabled to parliament to revisit the mental health act to make it more protective of the most vulnerable; women and youth. The analysis below is how kenyans reacted to it on twitter."
   ]
  },
  {
   "cell_type": "markdown",
   "metadata": {},
   "source": [
    "### First let us look at top 10 tweets with most 'fevorite' and those retweeted most."
   ]
  },
  {
   "cell_type": "code",
   "execution_count": 8,
   "metadata": {},
   "outputs": [
    {
     "name": "stdout",
     "output_type": "stream",
     "text": [
      "\n",
      "RT @_fels1: One man can impregnate 365+ women in 1 yr. 1 woman can only be impregnated by 1 man in 1 yr. Why dont we focus more on male con…\n",
      "Favorites:  0\n",
      "Retweets:  57\n",
      "\n",
      "RT @Gachee: If we continue to overlook mental health The economy as a whole will be affected. Mental illness will afflict more people, unem…\n",
      "Favorites:  0\n",
      "Retweets:  14\n",
      "\n",
      "RT @_fels1: One man can impregnate 365+ women in 1 yr. 1 woman can only be impregnated by 1 man in 1 yr. Why dont we focus more on male con…\n",
      "Favorites:  0\n",
      "Retweets:  57\n",
      "\n",
      "#socialanxiety #me #yes #mentalhealthbillke https://t.co/3zs14UYatp\n",
      "Favorites:  1\n",
      "Retweets:  0\n",
      "\n",
      "RT @FaithArimba: #MentalHealthBillKE Young people in Kenyan social setting today tend to be depressed when they lack jobs; when they feel l…\n",
      "Favorites:  0\n",
      "Retweets:  38\n",
      "\n",
      "RT @enock_kiptanui: #MentalHealthBillKE\n",
      "\n",
      "In the event you run into someone you know has mental illness,do you whisper to him because you th…\n",
      "Favorites:  0\n",
      "Retweets:  41\n",
      "\n",
      "RT @MzalendoWatch: I was diagnosed with severe depression and bipolar in January. It's only my sister who believed and therefore support in…\n",
      "Favorites:  0\n",
      "Retweets:  16\n",
      "\n",
      "RT @SylviaKasanga: Very interesting submissions on the #MentalHealthBillKe https://t.co/jXfJu1PBsq\n",
      "Favorites:  0\n",
      "Retweets:  11\n",
      "\n",
      "RT @Gachee: If we continue to overlook mental health The economy as a whole will be affected. Mental illness will afflict more people, unem…\n",
      "Favorites:  0\n",
      "Retweets:  14\n",
      "\n",
      "RT @InspectorDhola: Visual reminders of disorganisation can have negative effects on our physical and mental health. Well said @LibbySander…\n",
      "Favorites:  0\n",
      "Retweets:  1\n"
     ]
    }
   ],
   "source": [
    "for i in range(10):\n",
    "    print()\n",
    "    print(statuses[i]['text'])\n",
    "    print('Favorites: ', statuses[i]['favorite_count'])\n",
    "    print('Retweets: ', statuses[i]['retweet_count'])"
   ]
  },
  {
   "cell_type": "markdown",
   "metadata": {},
   "source": [
    "### Let us pull down one of the tweets"
   ]
  },
  {
   "cell_type": "code",
   "execution_count": 11,
   "metadata": {},
   "outputs": [
    {
     "name": "stdout",
     "output_type": "stream",
     "text": [
      "Length of statuses 100\n",
      "Length of statuses 200\n",
      "Length of statuses 289\n",
      "Length of statuses 376\n",
      "Length of statuses 468\n",
      "{\n",
      " \"is_quote_status\": false,\n",
      " \"metadata\": {\n",
      "  \"result_type\": \"recent\",\n",
      "  \"iso_language_code\": \"en\"\n",
      " },\n",
      " \"in_reply_to_status_id\": null,\n",
      " \"contributors\": null,\n",
      " \"created_at\": \"Mon Mar 18 23:24:18 +0000 2019\",\n",
      " \"lang\": \"en\",\n",
      " \"in_reply_to_status_id_str\": null,\n",
      " \"favorite_count\": 0,\n",
      " \"id\": 1107784823463165952,\n",
      " \"in_reply_to_user_id_str\": null,\n",
      " \"coordinates\": null,\n",
      " \"place\": null,\n",
      " \"truncated\": false,\n",
      " \"retweeted\": false,\n",
      " \"in_reply_to_user_id\": null,\n",
      " \"retweet_count\": 57,\n",
      " \"id_str\": \"1107784823463165952\",\n",
      " \"geo\": null,\n",
      " \"text\": \"RT @_fels1: One man can impregnate 365+ women in 1 yr. 1 woman can only be impregnated by 1 man in 1 yr. Why dont we focus more on male con\\u2026\",\n",
      " \"retweeted_status\": {\n",
      "  \"is_quote_status\": false,\n",
      "  \"metadata\": {\n",
      "   \"result_type\": \"recent\",\n",
      "   \"iso_language_code\": \"en\"\n",
      "  },\n",
      "  \"in_reply_to_status_id\": null,\n",
      "  \"contributors\": null,\n",
      "  \"created_at\": \"Tue Mar 12 08:54:52 +0000 2019\",\n",
      "  \"lang\": \"en\",\n",
      "  \"in_reply_to_status_id_str\": null,\n",
      "  \"favorite_count\": 137,\n",
      "  \"id\": 1105391696047673344,\n",
      "  \"in_reply_to_user_id_str\": null,\n",
      "  \"coordinates\": null,\n",
      "  \"place\": null,\n",
      "  \"truncated\": true,\n",
      "  \"retweeted\": false,\n",
      "  \"in_reply_to_user_id\": null,\n",
      "  \"retweet_count\": 57,\n",
      "  \"id_str\": \"1105391696047673344\",\n",
      "  \"geo\": null,\n",
      "  \"text\": \"One man can impregnate 365+ women in 1 yr. 1 woman can only be impregnated by 1 man in 1 yr. Why dont we focus more\\u2026 https://t.co/3kwsb369f8\",\n",
      "  \"source\": \"<a href=\\\"http://twitter.com/download/iphone\\\" rel=\\\"nofollow\\\">Twitter for iPhone</a>\",\n",
      "  \"entities\": {\n",
      "   \"urls\": [\n",
      "    {\n",
      "     \"display_url\": \"twitter.com/i/web/status/1\\u2026\",\n",
      "     \"expanded_url\": \"https://twitter.com/i/web/status/1105391696047673344\",\n",
      "     \"url\": \"https://t.co/3kwsb369f8\",\n",
      "     \"indices\": [\n",
      "      117,\n",
      "      140\n",
      "     ]\n",
      "    }\n",
      "   ],\n",
      "   \"user_mentions\": [],\n",
      "   \"hashtags\": [],\n",
      "   \"symbols\": []\n",
      "  },\n",
      "  \"user\": {\n",
      "   \"profile_image_url\": \"http://pbs.twimg.com/profile_images/1107618815444176897/tQq2RqaX_normal.jpg\",\n",
      "   \"profile_background_image_url_https\": null,\n",
      "   \"entities\": {\n",
      "    \"description\": {\n",
      "     \"urls\": []\n",
      "    }\n",
      "   },\n",
      "   \"default_profile\": true,\n",
      "   \"profile_sidebar_border_color\": \"C0DEED\",\n",
      "   \"profile_background_image_url\": null,\n",
      "   \"created_at\": \"Sat Jan 14 16:40:42 +0000 2017\",\n",
      "   \"protected\": false,\n",
      "   \"url\": null,\n",
      "   \"is_translator\": false,\n",
      "   \"lang\": \"en\",\n",
      "   \"translator_type\": \"none\",\n",
      "   \"has_extended_profile\": true,\n",
      "   \"id\": 820309675245760512,\n",
      "   \"statuses_count\": 9409,\n",
      "   \"notifications\": false,\n",
      "   \"default_profile_image\": false,\n",
      "   \"geo_enabled\": true,\n",
      "   \"profile_text_color\": \"333333\",\n",
      "   \"profile_background_tile\": false,\n",
      "   \"verified\": false,\n",
      "   \"is_translation_enabled\": false,\n",
      "   \"profile_banner_url\": \"https://pbs.twimg.com/profile_banners/820309675245760512/1552839383\",\n",
      "   \"time_zone\": null,\n",
      "   \"contributors_enabled\": false,\n",
      "   \"screen_name\": \"_fels1\",\n",
      "   \"location\": \"Kenya\",\n",
      "   \"description\": \"Chelsea Fan|| Raila is a LIAR|| Faith is a form of madness....\",\n",
      "   \"profile_link_color\": \"1DA1F2\",\n",
      "   \"profile_image_url_https\": \"https://pbs.twimg.com/profile_images/1107618815444176897/tQq2RqaX_normal.jpg\",\n",
      "   \"utc_offset\": null,\n",
      "   \"favourites_count\": 19336,\n",
      "   \"profile_use_background_image\": true,\n",
      "   \"profile_background_color\": \"F5F8FA\",\n",
      "   \"profile_sidebar_fill_color\": \"DDEEF6\",\n",
      "   \"followers_count\": 15653,\n",
      "   \"listed_count\": 5,\n",
      "   \"follow_request_sent\": false,\n",
      "   \"name\": \"Wuod Japuonj\\ud83c\\uddf0\\ud83c\\uddea\",\n",
      "   \"friends_count\": 13710,\n",
      "   \"id_str\": \"820309675245760512\",\n",
      "   \"following\": false\n",
      "  },\n",
      "  \"favorited\": false,\n",
      "  \"in_reply_to_screen_name\": null\n",
      " },\n",
      " \"source\": \"<a href=\\\"http://twitter.com/download/iphone\\\" rel=\\\"nofollow\\\">Twitter for iPhone</a>\",\n",
      " \"entities\": {\n",
      "  \"urls\": [],\n",
      "  \"user_mentions\": [\n",
      "   {\n",
      "    \"screen_name\": \"_fels1\",\n",
      "    \"id_str\": \"820309675245760512\",\n",
      "    \"id\": 820309675245760512,\n",
      "    \"name\": \"Wuod Japuonj\\ud83c\\uddf0\\ud83c\\uddea\",\n",
      "    \"indices\": [\n",
      "     3,\n",
      "     10\n",
      "    ]\n",
      "   }\n",
      "  ],\n",
      "  \"hashtags\": [],\n",
      "  \"symbols\": []\n",
      " },\n",
      " \"user\": {\n",
      "  \"profile_image_url\": \"http://pbs.twimg.com/profile_images/1103766261966745603/YffrAQr6_normal.jpg\",\n",
      "  \"profile_background_image_url_https\": \"https://abs.twimg.com/images/themes/theme1/bg.png\",\n",
      "  \"entities\": {\n",
      "   \"description\": {\n",
      "    \"urls\": []\n",
      "   }\n",
      "  },\n",
      "  \"default_profile\": true,\n",
      "  \"profile_sidebar_border_color\": \"C0DEED\",\n",
      "  \"profile_background_image_url\": \"http://abs.twimg.com/images/themes/theme1/bg.png\",\n",
      "  \"created_at\": \"Mon Oct 12 14:07:52 +0000 2015\",\n",
      "  \"protected\": false,\n",
      "  \"url\": null,\n",
      "  \"is_translator\": false,\n",
      "  \"lang\": \"en\",\n",
      "  \"translator_type\": \"none\",\n",
      "  \"has_extended_profile\": true,\n",
      "  \"id\": 3937753342,\n",
      "  \"statuses_count\": 45697,\n",
      "  \"notifications\": false,\n",
      "  \"geo_enabled\": false,\n",
      "  \"default_profile_image\": false,\n",
      "  \"profile_background_tile\": false,\n",
      "  \"verified\": false,\n",
      "  \"is_translation_enabled\": false,\n",
      "  \"profile_text_color\": \"333333\",\n",
      "  \"time_zone\": null,\n",
      "  \"contributors_enabled\": false,\n",
      "  \"screen_name\": \"MbeniaJP\",\n",
      "  \"location\": \"\",\n",
      "  \"description\": \"\",\n",
      "  \"profile_link_color\": \"1DA1F2\",\n",
      "  \"profile_image_url_https\": \"https://pbs.twimg.com/profile_images/1103766261966745603/YffrAQr6_normal.jpg\",\n",
      "  \"utc_offset\": null,\n",
      "  \"favourites_count\": 104332,\n",
      "  \"profile_use_background_image\": true,\n",
      "  \"profile_background_color\": \"C0DEED\",\n",
      "  \"profile_sidebar_fill_color\": \"DDEEF6\",\n",
      "  \"followers_count\": 3614,\n",
      "  \"listed_count\": 19,\n",
      "  \"follow_request_sent\": false,\n",
      "  \"name\": \"JayP.O\",\n",
      "  \"friends_count\": 3114,\n",
      "  \"id_str\": \"3937753342\",\n",
      "  \"following\": false\n",
      " },\n",
      " \"favorited\": false,\n",
      " \"in_reply_to_screen_name\": null\n",
      "}\n"
     ]
    }
   ],
   "source": [
    "import json\n",
    "\n",
    "# Set this variable to a trending topic, \n",
    "# or anything else for that matter. The example query below\n",
    "# was a trending topic when this content was being developed\n",
    "# and is used throughout the remainder of this chapter.\n",
    "\n",
    "q = '#MentalHealthBillKe'\n",
    "\n",
    "count = 1000\n",
    "\n",
    "# Import unquote to prevent url encoding errors in next_results\n",
    "from urllib.parse import unquote\n",
    "\n",
    "# See https://dev.twitter.com/rest/reference/get/search/tweets\n",
    "\n",
    "search_results = twitter_api.search.tweets(q=q, count=count)\n",
    "\n",
    "statuses = search_results['statuses']\n",
    "\n",
    "\n",
    "# Iterate through 5 more batches of results by following the cursor\n",
    "for _ in range(5):\n",
    "    print('Length of statuses', len(statuses))\n",
    "    try:\n",
    "        next_results = search_results['search_metadata']['next_results']\n",
    "    except KeyError as e: # No more results when next_results doesn't exist\n",
    "        break\n",
    "        \n",
    "    # Create a dictionary from next_results, which has the following form:\n",
    "    # ?max_id=847960489447628799&q=%23RIPSelena&count=100&include_entities=1\n",
    "    kwargs = dict([ kv.split('=') for kv in unquote(next_results[1:]).split(\"&\") ])\n",
    "    \n",
    "    search_results = twitter_api.search.tweets(**kwargs)\n",
    "    statuses += search_results['statuses']\n",
    "\n",
    "# Show one sample search result by slicing the list...\n",
    "print(json.dumps(statuses[0], indent=1))"
   ]
  },
  {
   "cell_type": "markdown",
   "metadata": {},
   "source": [
    "## Extracting text, screen names, and hashtags from tweets"
   ]
  },
  {
   "cell_type": "code",
   "execution_count": 27,
   "metadata": {},
   "outputs": [
    {
     "name": "stdout",
     "output_type": "stream",
     "text": [
      "[\n",
      " \"RT @_fels1: One man can impregnate 365+ women in 1 yr. 1 woman can only be impregnated by 1 man in 1 yr. Why dont we focus more on male con\\u2026\",\n",
      " \"RT @Gachee: If we continue to overlook mental health The economy as a whole will be affected. Mental illness will afflict more people, unem\\u2026\",\n",
      " \"RT @_fels1: One man can impregnate 365+ women in 1 yr. 1 woman can only be impregnated by 1 man in 1 yr. Why dont we focus more on male con\\u2026\",\n",
      " \"#socialanxiety #me #yes #mentalhealthbillke https://t.co/3zs14UYatp\",\n",
      " \"RT @FaithArimba: #MentalHealthBillKE Young people in Kenyan social setting today tend to be depressed when they lack jobs; when they feel l\\u2026\"\n",
      "]\n",
      "[\n",
      " \"_fels1\",\n",
      " \"Gachee\",\n",
      " \"_fels1\",\n",
      " \"FaithArimba\",\n",
      " \"enock_kiptanui\"\n",
      "]\n",
      "[\n",
      " \"socialanxiety\",\n",
      " \"me\",\n",
      " \"yes\",\n",
      " \"mentalhealthbillke\",\n",
      " \"MentalHealthBillKE\"\n",
      "]\n",
      "[\n",
      " \"RT\",\n",
      " \"@_fels1:\",\n",
      " \"One\",\n",
      " \"man\",\n",
      " \"can\"\n",
      "]\n"
     ]
    }
   ],
   "source": [
    "status_texts = [ status['text'] \n",
    "                 for status in statuses ]\n",
    "\n",
    "screen_names = [ user_mention['screen_name'] \n",
    "                 for status in statuses\n",
    "                     for user_mention in status['entities']['user_mentions'] ]\n",
    "\n",
    "hashtags = [ hashtag['text'] \n",
    "             for status in statuses\n",
    "                 for hashtag in status['entities']['hashtags'] ]\n",
    "\n",
    "# Compute a collection of all words from all tweets\n",
    "words = [ w \n",
    "          for t in status_texts \n",
    "              for w in t.split() ]\n",
    "\n",
    "# Explore the first 5 items for each...\n",
    "\n",
    "print(json.dumps(status_texts[0:5], indent=1))\n",
    "print(json.dumps(screen_names[0:5], indent=1) )\n",
    "print(json.dumps(hashtags[0:5], indent=1))\n",
    "print(json.dumps(words[0:5], indent=1))"
   ]
  },
  {
   "cell_type": "markdown",
   "metadata": {},
   "source": [
    "## Creating a basic frequency distribution from the words in tweets"
   ]
  },
  {
   "cell_type": "code",
   "execution_count": 28,
   "metadata": {},
   "outputs": [
    {
     "name": "stdout",
     "output_type": "stream",
     "text": [
      "[('RT', 451), ('the', 309), ('to', 262), ('#MentalHealthBillKE', 249), ('in', 203), ('of', 188), ('and', 182), ('1', 181), ('be', 151), ('a', 143)]\n",
      "\n",
      "[('MzalendoWatch', 59), ('enock_kiptanui', 55), ('Dmarigiri_', 54), ('_fels1', 44), ('SylviaKasanga', 43), ('Gachee', 28), ('FaithArimba', 28), ('ChiromoLMC', 20), ('EvyonK', 19), ('Nichonasri1', 18)]\n",
      "\n",
      "[('MentalHealthBillKE', 250), ('MentalHealthBillKe', 24), ('ProtectingTheRightsOfTheMentallySick', 5), ('TuesdayThoughts', 3), ('ProtectingTheRightsOfMentallySick', 3), ('WeShallOvercome', 3), ('BeUnstoppable', 3), ('GameOfPhonesKE', 3), ('Kenya', 2), ('AfricaNow19', 2)]\n",
      "\n"
     ]
    }
   ],
   "source": [
    "from collections import Counter\n",
    "\n",
    "for item in [words, screen_names, hashtags]:\n",
    "    c = Counter(item)\n",
    "    print(c.most_common()[:10]) # top 10\n",
    "    print()"
   ]
  },
  {
   "cell_type": "markdown",
   "metadata": {},
   "source": [
    "## Tabulating our results"
   ]
  },
  {
   "cell_type": "code",
   "execution_count": 29,
   "metadata": {},
   "outputs": [
    {
     "name": "stdout",
     "output_type": "stream",
     "text": [
      "+---------------------+-------+\n",
      "| Word                | Count |\n",
      "+---------------------+-------+\n",
      "| RT                  |   451 |\n",
      "| the                 |   309 |\n",
      "| to                  |   262 |\n",
      "| #MentalHealthBillKE |   249 |\n",
      "| in                  |   203 |\n",
      "| of                  |   188 |\n",
      "| and                 |   182 |\n",
      "| 1                   |   181 |\n",
      "| be                  |   151 |\n",
      "| a                   |   143 |\n",
      "+---------------------+-------+\n",
      "+----------------+-------+\n",
      "| Screen Name    | Count |\n",
      "+----------------+-------+\n",
      "| MzalendoWatch  |    59 |\n",
      "| enock_kiptanui |    55 |\n",
      "| Dmarigiri_     |    54 |\n",
      "| _fels1         |    44 |\n",
      "| SylviaKasanga  |    43 |\n",
      "| Gachee         |    28 |\n",
      "| FaithArimba    |    28 |\n",
      "| ChiromoLMC     |    20 |\n",
      "| EvyonK         |    19 |\n",
      "| Nichonasri1    |    18 |\n",
      "+----------------+-------+\n",
      "+--------------------------------------+-------+\n",
      "| Hashtag                              | Count |\n",
      "+--------------------------------------+-------+\n",
      "| MentalHealthBillKE                   |   250 |\n",
      "| MentalHealthBillKe                   |    24 |\n",
      "| ProtectingTheRightsOfTheMentallySick |     5 |\n",
      "| TuesdayThoughts                      |     3 |\n",
      "| ProtectingTheRightsOfMentallySick    |     3 |\n",
      "| WeShallOvercome                      |     3 |\n",
      "| BeUnstoppable                        |     3 |\n",
      "| GameOfPhonesKE                       |     3 |\n",
      "| Kenya                                |     2 |\n",
      "| AfricaNow19                          |     2 |\n",
      "+--------------------------------------+-------+\n"
     ]
    }
   ],
   "source": [
    "from prettytable import PrettyTable\n",
    "\n",
    "for label, data in (('Word', words), \n",
    "                    ('Screen Name', screen_names), \n",
    "                    ('Hashtag', hashtags)):\n",
    "    pt = PrettyTable(field_names=[label, 'Count']) \n",
    "    c = Counter(data)\n",
    "    [ pt.add_row(kv) for kv in c.most_common()[:10] ]\n",
    "    pt.align[label], pt.align['Count'] = 'l', 'r' # Set column alignment\n",
    "    print(pt)"
   ]
  },
  {
   "cell_type": "markdown",
   "metadata": {},
   "source": [
    "## Calculating lexical diversity for tweets\n",
    "#### How are the actual words used related to mental health? Let us find out"
   ]
  },
  {
   "cell_type": "code",
   "execution_count": 31,
   "metadata": {},
   "outputs": [
    {
     "name": "stdout",
     "output_type": "stream",
     "text": [
      "0.11945857558139535\n",
      "0.0732484076433121\n"
     ]
    }
   ],
   "source": [
    "# A function for computing lexical diversity\n",
    "def lexical_diversity(tokens):\n",
    "    return len(set(tokens))/len(tokens) \n",
    "\n",
    "# A function for computing the average number of words per tweet\n",
    "def average_words(statuses):\n",
    "    total_words = sum([ len(s.split()) for s in statuses ]) \n",
    "    return total_words/len(statuses)\n",
    "\n",
    "print(lexical_diversity(words))\n",
    "print(lexical_diversity(hashtags))"
   ]
  },
  {
   "cell_type": "markdown",
   "metadata": {},
   "source": [
    "#### Both \"words\" and \"hashtags\" have lexical values of less than 0.5 . This means that they are strongly co-related mental health"
   ]
  },
  {
   "cell_type": "markdown",
   "metadata": {},
   "source": [
    "## Finding the most popular retweets"
   ]
  },
  {
   "cell_type": "code",
   "execution_count": 14,
   "metadata": {},
   "outputs": [
    {
     "name": "stdout",
     "output_type": "stream",
     "text": [
      "+-------+----------------+---------------------+----------------------------------------------------+\n",
      "| Count | Screen Name    | Tweet ID            | Text                                               |\n",
      "+-------+----------------+---------------------+----------------------------------------------------+\n",
      "| 57    | _fels1         | 1105391696047673344 | RT @_fels1: One man can impregnate 365+ women in 1 |\n",
      "|       |                |                     | yr. 1 woman can only be impregnated by 1 man in 1  |\n",
      "|       |                |                     | yr. Why dont we focus more on male con…            |\n",
      "| 57    | _fels1         | 1105391696047673344 | RT @_fels1: One man can impregnate 365+ women in 1 |\n",
      "|       |                |                     | yr. 1 woman can only be impregnated by 1 man in 1  |\n",
      "|       |                |                     | yr. Why dont we focus more on male con…            |\n",
      "| 57    | _fels1         | 1105391696047673344 | RT @_fels1: One man can impregnate 365+ women in 1 |\n",
      "|       |                |                     | yr. 1 woman can only be impregnated by 1 man in 1  |\n",
      "|       |                |                     | yr. Why dont we focus more on male con…            |\n",
      "| 57    | _fels1         | 1105391696047673344 | RT @_fels1: One man can impregnate 365+ women in 1 |\n",
      "|       |                |                     | yr. 1 woman can only be impregnated by 1 man in 1  |\n",
      "|       |                |                     | yr. Why dont we focus more on male con…            |\n",
      "| 57    | _fels1         | 1105391696047673344 | RT @_fels1: One man can impregnate 365+ women in 1 |\n",
      "|       |                |                     | yr. 1 woman can only be impregnated by 1 man in 1  |\n",
      "|       |                |                     | yr. Why dont we focus more on male con…            |\n",
      "| 57    | _fels1         | 1105391696047673344 | RT @_fels1: One man can impregnate 365+ women in 1 |\n",
      "|       |                |                     | yr. 1 woman can only be impregnated by 1 man in 1  |\n",
      "|       |                |                     | yr. Why dont we focus more on male con…            |\n",
      "| 57    | _fels1         | 1105391696047673344 | RT @_fels1: One man can impregnate 365+ women in 1 |\n",
      "|       |                |                     | yr. 1 woman can only be impregnated by 1 man in 1  |\n",
      "|       |                |                     | yr. Why dont we focus more on male con…            |\n",
      "| 57    | _fels1         | 1105391696047673344 | RT @_fels1: One man can impregnate 365+ women in 1 |\n",
      "|       |                |                     | yr. 1 woman can only be impregnated by 1 man in 1  |\n",
      "|       |                |                     | yr. Why dont we focus more on male con…            |\n",
      "| 57    | _fels1         | 1105391696047673344 | RT @_fels1: One man can impregnate 365+ women in 1 |\n",
      "|       |                |                     | yr. 1 woman can only be impregnated by 1 man in 1  |\n",
      "|       |                |                     | yr. Why dont we focus more on male con…            |\n",
      "| 57    | _fels1         | 1105391696047673344 | RT @_fels1: One man can impregnate 365+ women in 1 |\n",
      "|       |                |                     | yr. 1 woman can only be impregnated by 1 man in 1  |\n",
      "|       |                |                     | yr. Why dont we focus more on male con…            |\n",
      "| 57    | _fels1         | 1105391696047673344 | RT @_fels1: One man can impregnate 365+ women in 1 |\n",
      "|       |                |                     | yr. 1 woman can only be impregnated by 1 man in 1  |\n",
      "|       |                |                     | yr. Why dont we focus more on male con…            |\n",
      "| 57    | _fels1         | 1105391696047673344 | RT @_fels1: One man can impregnate 365+ women in 1 |\n",
      "|       |                |                     | yr. 1 woman can only be impregnated by 1 man in 1  |\n",
      "|       |                |                     | yr. Why dont we focus more on male con…            |\n",
      "| 57    | _fels1         | 1105391696047673344 | RT @_fels1: One man can impregnate 365+ women in 1 |\n",
      "|       |                |                     | yr. 1 woman can only be impregnated by 1 man in 1  |\n",
      "|       |                |                     | yr. Why dont we focus more on male con…            |\n",
      "| 57    | _fels1         | 1105391696047673344 | RT @_fels1: One man can impregnate 365+ women in 1 |\n",
      "|       |                |                     | yr. 1 woman can only be impregnated by 1 man in 1  |\n",
      "|       |                |                     | yr. Why dont we focus more on male con…            |\n",
      "| 57    | _fels1         | 1105391696047673344 | RT @_fels1: One man can impregnate 365+ women in 1 |\n",
      "|       |                |                     | yr. 1 woman can only be impregnated by 1 man in 1  |\n",
      "|       |                |                     | yr. Why dont we focus more on male con…            |\n",
      "| 57    | _fels1         | 1105391696047673344 | RT @_fels1: One man can impregnate 365+ women in 1 |\n",
      "|       |                |                     | yr. 1 woman can only be impregnated by 1 man in 1  |\n",
      "|       |                |                     | yr. Why dont we focus more on male con…            |\n",
      "| 57    | _fels1         | 1105391696047673344 | RT @_fels1: One man can impregnate 365+ women in 1 |\n",
      "|       |                |                     | yr. 1 woman can only be impregnated by 1 man in 1  |\n",
      "|       |                |                     | yr. Why dont we focus more on male con…            |\n",
      "| 57    | _fels1         | 1105391696047673344 | RT @_fels1: One man can impregnate 365+ women in 1 |\n",
      "|       |                |                     | yr. 1 woman can only be impregnated by 1 man in 1  |\n",
      "|       |                |                     | yr. Why dont we focus more on male con…            |\n",
      "| 57    | _fels1         | 1105391696047673344 | RT @_fels1: One man can impregnate 365+ women in 1 |\n",
      "|       |                |                     | yr. 1 woman can only be impregnated by 1 man in 1  |\n",
      "|       |                |                     | yr. Why dont we focus more on male con…            |\n",
      "| 57    | _fels1         | 1105391696047673344 | RT @_fels1: One man can impregnate 365+ women in 1 |\n",
      "|       |                |                     | yr. 1 woman can only be impregnated by 1 man in 1  |\n",
      "|       |                |                     | yr. Why dont we focus more on male con…            |\n",
      "| 57    | _fels1         | 1105391696047673344 | RT @_fels1: One man can impregnate 365+ women in 1 |\n",
      "|       |                |                     | yr. 1 woman can only be impregnated by 1 man in 1  |\n",
      "|       |                |                     | yr. Why dont we focus more on male con…            |\n",
      "| 57    | _fels1         | 1105391696047673344 | RT @_fels1: One man can impregnate 365+ women in 1 |\n",
      "|       |                |                     | yr. 1 woman can only be impregnated by 1 man in 1  |\n",
      "|       |                |                     | yr. Why dont we focus more on male con…            |\n",
      "| 57    | _fels1         | 1105391696047673344 | RT @_fels1: One man can impregnate 365+ women in 1 |\n",
      "|       |                |                     | yr. 1 woman can only be impregnated by 1 man in 1  |\n",
      "|       |                |                     | yr. Why dont we focus more on male con…            |\n",
      "| 57    | _fels1         | 1105391696047673344 | RT @_fels1: One man can impregnate 365+ women in 1 |\n",
      "|       |                |                     | yr. 1 woman can only be impregnated by 1 man in 1  |\n",
      "|       |                |                     | yr. Why dont we focus more on male con…            |\n",
      "| 57    | _fels1         | 1105391696047673344 | RT @_fels1: One man can impregnate 365+ women in 1 |\n",
      "|       |                |                     | yr. 1 woman can only be impregnated by 1 man in 1  |\n",
      "|       |                |                     | yr. Why dont we focus more on male con…            |\n",
      "| 57    | _fels1         | 1105391696047673344 | RT @_fels1: One man can impregnate 365+ women in 1 |\n",
      "|       |                |                     | yr. 1 woman can only be impregnated by 1 man in 1  |\n",
      "|       |                |                     | yr. Why dont we focus more on male con…            |\n",
      "| 57    | _fels1         | 1105391696047673344 | RT @_fels1: One man can impregnate 365+ women in 1 |\n",
      "|       |                |                     | yr. 1 woman can only be impregnated by 1 man in 1  |\n",
      "|       |                |                     | yr. Why dont we focus more on male con…            |\n",
      "| 57    | _fels1         | 1105391696047673344 | RT @_fels1: One man can impregnate 365+ women in 1 |\n",
      "|       |                |                     | yr. 1 woman can only be impregnated by 1 man in 1  |\n",
      "|       |                |                     | yr. Why dont we focus more on male con…            |\n",
      "| 57    | _fels1         | 1105391696047673344 | RT @_fels1: One man can impregnate 365+ women in 1 |\n",
      "|       |                |                     | yr. 1 woman can only be impregnated by 1 man in 1  |\n",
      "|       |                |                     | yr. Why dont we focus more on male con…            |\n",
      "| 57    | _fels1         | 1105391696047673344 | RT @_fels1: One man can impregnate 365+ women in 1 |\n",
      "|       |                |                     | yr. 1 woman can only be impregnated by 1 man in 1  |\n",
      "|       |                |                     | yr. Why dont we focus more on male con…            |\n",
      "| 57    | _fels1         | 1105391696047673344 | RT @_fels1: One man can impregnate 365+ women in 1 |\n",
      "|       |                |                     | yr. 1 woman can only be impregnated by 1 man in 1  |\n",
      "|       |                |                     | yr. Why dont we focus more on male con…            |\n",
      "| 57    | _fels1         | 1105391696047673344 | RT @_fels1: One man can impregnate 365+ women in 1 |\n",
      "|       |                |                     | yr. 1 woman can only be impregnated by 1 man in 1  |\n",
      "|       |                |                     | yr. Why dont we focus more on male con…            |\n",
      "| 57    | _fels1         | 1105391696047673344 | RT @_fels1: One man can impregnate 365+ women in 1 |\n",
      "|       |                |                     | yr. 1 woman can only be impregnated by 1 man in 1  |\n",
      "|       |                |                     | yr. Why dont we focus more on male con…            |\n",
      "| 57    | _fels1         | 1105391696047673344 | RT @_fels1: One man can impregnate 365+ women in 1 |\n",
      "|       |                |                     | yr. 1 woman can only be impregnated by 1 man in 1  |\n",
      "|       |                |                     | yr. Why dont we focus more on male con…            |\n",
      "| 57    | _fels1         | 1105391696047673344 | RT @_fels1: One man can impregnate 365+ women in 1 |\n",
      "|       |                |                     | yr. 1 woman can only be impregnated by 1 man in 1  |\n",
      "|       |                |                     | yr. Why dont we focus more on male con…            |\n",
      "| 57    | _fels1         | 1105391696047673344 | RT @_fels1: One man can impregnate 365+ women in 1 |\n",
      "|       |                |                     | yr. 1 woman can only be impregnated by 1 man in 1  |\n",
      "|       |                |                     | yr. Why dont we focus more on male con…            |\n",
      "| 57    | _fels1         | 1105391696047673344 | RT @_fels1: One man can impregnate 365+ women in 1 |\n",
      "|       |                |                     | yr. 1 woman can only be impregnated by 1 man in 1  |\n",
      "|       |                |                     | yr. Why dont we focus more on male con…            |\n",
      "| 57    | _fels1         | 1105391696047673344 | RT @_fels1: One man can impregnate 365+ women in 1 |\n",
      "|       |                |                     | yr. 1 woman can only be impregnated by 1 man in 1  |\n",
      "|       |                |                     | yr. Why dont we focus more on male con…            |\n",
      "| 57    | _fels1         | 1105391696047673344 | RT @_fels1: One man can impregnate 365+ women in 1 |\n",
      "|       |                |                     | yr. 1 woman can only be impregnated by 1 man in 1  |\n",
      "|       |                |                     | yr. Why dont we focus more on male con…            |\n",
      "| 57    | _fels1         | 1105391696047673344 | RT @_fels1: One man can impregnate 365+ women in 1 |\n",
      "|       |                |                     | yr. 1 woman can only be impregnated by 1 man in 1  |\n",
      "|       |                |                     | yr. Why dont we focus more on male con…            |\n",
      "| 57    | _fels1         | 1105391696047673344 | RT @_fels1: One man can impregnate 365+ women in 1 |\n",
      "|       |                |                     | yr. 1 woman can only be impregnated by 1 man in 1  |\n",
      "|       |                |                     | yr. Why dont we focus more on male con…            |\n",
      "| 57    | _fels1         | 1105391696047673344 | RT @_fels1: One man can impregnate 365+ women in 1 |\n",
      "|       |                |                     | yr. 1 woman can only be impregnated by 1 man in 1  |\n",
      "|       |                |                     | yr. Why dont we focus more on male con…            |\n",
      "| 57    | _fels1         | 1105391696047673344 | RT @_fels1: One man can impregnate 365+ women in 1 |\n",
      "|       |                |                     | yr. 1 woman can only be impregnated by 1 man in 1  |\n",
      "|       |                |                     | yr. Why dont we focus more on male con…            |\n",
      "| 57    | _fels1         | 1105391696047673344 | RT @_fels1: One man can impregnate 365+ women in 1 |\n",
      "|       |                |                     | yr. 1 woman can only be impregnated by 1 man in 1  |\n",
      "|       |                |                     | yr. Why dont we focus more on male con…            |\n",
      "| 41    | enock_kiptanui | 1105370472181624833 | RT @enock_kiptanui: #MentalHealthBillKE            |\n",
      "|       |                |                     |                                                    |\n",
      "|       |                |                     | In the event you run into someone you know has     |\n",
      "|       |                |                     | mental illness,do you whisper to him because you   |\n",
      "|       |                |                     | th…                                                |\n",
      "| 41    | enock_kiptanui | 1105370472181624833 | RT @enock_kiptanui: #MentalHealthBillKE            |\n",
      "|       |                |                     |                                                    |\n",
      "|       |                |                     | In the event you run into someone you know has     |\n",
      "|       |                |                     | mental illness,do you whisper to him because you   |\n",
      "|       |                |                     | th…                                                |\n",
      "| 41    | enock_kiptanui | 1105370472181624833 | RT @enock_kiptanui: #MentalHealthBillKE            |\n",
      "|       |                |                     |                                                    |\n",
      "|       |                |                     | In the event you run into someone you know has     |\n",
      "|       |                |                     | mental illness,do you whisper to him because you   |\n",
      "|       |                |                     | th…                                                |\n",
      "| 41    | enock_kiptanui | 1105370472181624833 | RT @enock_kiptanui: #MentalHealthBillKE            |\n",
      "|       |                |                     |                                                    |\n",
      "|       |                |                     | In the event you run into someone you know has     |\n",
      "|       |                |                     | mental illness,do you whisper to him because you   |\n",
      "|       |                |                     | th…                                                |\n",
      "| 41    | enock_kiptanui | 1105370472181624833 | RT @enock_kiptanui: #MentalHealthBillKE            |\n",
      "|       |                |                     |                                                    |\n",
      "|       |                |                     | In the event you run into someone you know has     |\n",
      "|       |                |                     | mental illness,do you whisper to him because you   |\n",
      "|       |                |                     | th…                                                |\n",
      "| 41    | enock_kiptanui | 1105370472181624833 | RT @enock_kiptanui: #MentalHealthBillKE            |\n",
      "|       |                |                     |                                                    |\n",
      "|       |                |                     | In the event you run into someone you know has     |\n",
      "|       |                |                     | mental illness,do you whisper to him because you   |\n",
      "|       |                |                     | th…                                                |\n",
      "+-------+----------------+---------------------+----------------------------------------------------+\n"
     ]
    }
   ],
   "source": [
    "retweets = [\n",
    "            # Store out a tuple of these three values ...\n",
    "            (status['retweet_count'], \n",
    "             status['retweeted_status']['user']['screen_name'],\n",
    "             status['retweeted_status']['id'],\n",
    "             status['text']) \n",
    "            \n",
    "            # ... for each status ...\n",
    "            for status in statuses \n",
    "            \n",
    "            # ... so long as the status meets this condition.\n",
    "                if 'retweeted_status' in status.keys()\n",
    "           ]\n",
    "\n",
    "# Slice off the first 5 from the sorted results and display each item in the tuple\n",
    "\n",
    "pt = PrettyTable(field_names=['Count', 'Screen Name', 'Tweet ID', 'Text'])\n",
    "[ pt.add_row(row) for row in sorted(retweets, reverse=True)[:50] ]\n",
    "pt.max_width['Text'] = 50\n",
    "pt.align= 'l'\n",
    "print(pt)"
   ]
  },
  {
   "cell_type": "markdown",
   "metadata": {},
   "source": [
    "##### Irresposible men impregnating women is seen as number one course of mental health amongst women as they are left to take care of the babies all by themselves.\n"
   ]
  },
  {
   "cell_type": "code",
   "execution_count": null,
   "metadata": {},
   "outputs": [],
   "source": []
  },
  {
   "cell_type": "markdown",
   "metadata": {},
   "source": [
    "## Plotting frequencies of words"
   ]
  },
  {
   "cell_type": "code",
   "execution_count": 33,
   "metadata": {},
   "outputs": [
    {
     "data": {
      "text/plain": [
       "Text(0.5, 0, 'Word Rank')"
      ]
     },
     "execution_count": 33,
     "metadata": {},
     "output_type": "execute_result"
    },
    {
     "data": {
      "image/png": "[encoded data removed]",
      "text/plain": [
       "<Figure size 432x288 with 1 Axes>"
      ]
     },
     "metadata": {
      "needs_background": "light"
     },
     "output_type": "display_data"
    }
   ],
   "source": [
    "import matplotlib.pyplot as plt\n",
    "%matplotlib inline\n",
    "word_counts = sorted(Counter(words).values(), reverse=True)\n",
    "\n",
    "plt.loglog(word_counts)\n",
    "plt.ylabel(\"Freq\")\n",
    "plt.xlabel(\"Word Rank\")"
   ]
  },
  {
   "cell_type": "markdown",
   "metadata": {},
   "source": [
    "## Generating histograms of words, screen names, and hashtags"
   ]
  },
  {
   "cell_type": "code",
   "execution_count": 34,
   "metadata": {},
   "outputs": [
    {
     "data": {
      "image/png": "[encoded data removed]",
      "text/plain": [
       "<Figure size 432x288 with 1 Axes>"
      ]
     },
     "metadata": {
      "needs_background": "light"
     },
     "output_type": "display_data"
    },
    {
     "data": {
      "image/png": "[encoded data removed]",
      "text/plain": [
       "<Figure size 432x288 with 1 Axes>"
      ]
     },
     "metadata": {
      "needs_background": "light"
     },
     "output_type": "display_data"
    },
    {
     "data": {
      "image/png": "[encoded data removed]",
      "text/plain": [
       "<Figure size 432x288 with 1 Axes>"
      ]
     },
     "metadata": {
      "needs_background": "light"
     },
     "output_type": "display_data"
    },
    {
     "data": {
      "text/plain": [
       "<Figure size 432x288 with 0 Axes>"
      ]
     },
     "metadata": {},
     "output_type": "display_data"
    }
   ],
   "source": [
    "for label, data in (('Words', words), \n",
    "                    ('Screen Names', screen_names), \n",
    "                    ('Hashtags', hashtags)):\n",
    "\n",
    "    # Build a frequency map for each set of data\n",
    "    # and plot the values\n",
    "    c = Counter(data)\n",
    "    plt.hist(list(c.values()))\n",
    "    \n",
    "    # Add a title and y-label ...\n",
    "    plt.title(label)\n",
    "    plt.ylabel(\"Number of tims it appeard\")\n",
    "    plt.xlabel(\"Hashtag\")\n",
    "    \n",
    "    # ... and display as a new figure\n",
    "    plt.figure()"
   ]
  },
  {
   "cell_type": "markdown",
   "metadata": {},
   "source": [
    "## Generating a histogram of retweet counts"
   ]
  },
  {
   "cell_type": "code",
   "execution_count": 18,
   "metadata": {},
   "outputs": [
    {
     "data": {
      "text/plain": [
       "Text(0, 0.5, 'Number of tweets in bin')"
      ]
     },
     "execution_count": 18,
     "metadata": {},
     "output_type": "execute_result"
    },
    {
     "data": {
      "image/png": "[encoded data removed]",
      "text/plain": [
       "<Figure size 432x288 with 1 Axes>"
      ]
     },
     "metadata": {
      "needs_background": "light"
     },
     "output_type": "display_data"
    }
   ],
   "source": [
    "# Using underscores while unpacking values in\n",
    "# a tuple is idiomatic for discarding them\n",
    "\n",
    "counts = [count for count, _, _, _ in retweets]\n",
    "\n",
    "plt.hist(counts)\n",
    "plt.title('Retweets')\n",
    "plt.xlabel('Bins (number of times retweeted)')\n",
    "plt.ylabel('Number of tweets in bin')"
   ]
  },
  {
   "cell_type": "markdown",
   "metadata": {
    "collapsed": true
   },
   "source": [
    "## Sentiment Analysis"
   ]
  },
  {
   "cell_type": "code",
   "execution_count": 14,
   "metadata": {},
   "outputs": [],
   "source": [
    "# pip install nltk\n",
    "import nltk\n",
    "#nltk.download('vader_lexicon')\n",
    "\n",
    "import numpy as np\n",
    "from nltk.sentiment.vader import SentimentIntensityAnalyzer"
   ]
  },
  {
   "cell_type": "code",
   "execution_count": 15,
   "metadata": {},
   "outputs": [],
   "source": [
    "twitter_stream = twitter.TwitterStream(auth=auth)\n",
    "iterator = twitter_stream.statuses.sample()"
   ]
  },
  {
   "cell_type": "code",
   "execution_count": 16,
   "metadata": {},
   "outputs": [],
   "source": [
    "tweets = []\n",
    "for tweet in iterator:\n",
    "    try:\n",
    "        if tweet['lang'] == 'en':\n",
    "            tweets.append(tweet)\n",
    "    except:\n",
    "        pass\n",
    "    if len(tweets) == 100:\n",
    "        break"
   ]
  },
  {
   "cell_type": "code",
   "execution_count": 17,
   "metadata": {},
   "outputs": [],
   "source": [
    "analyzer = SentimentIntensityAnalyzer()"
   ]
  },
  {
   "cell_type": "code",
   "execution_count": 18,
   "metadata": {},
   "outputs": [
    {
     "data": {
      "text/plain": [
       "{'compound': 0.0, 'neg': 0.0, 'neu': 1.0, 'pos': 0.0}"
      ]
     },
     "execution_count": 18,
     "metadata": {},
     "output_type": "execute_result"
    }
   ],
   "source": [
    "analyzer.polarity_scores('Mental Health')"
   ]
  },
  {
   "cell_type": "code",
   "execution_count": 35,
   "metadata": {},
   "outputs": [
    {
     "data": {
      "text/plain": [
       "{'compound': 0.0, 'neg': 0.0, 'neu': 1.0, 'pos': 0.0}"
      ]
     },
     "execution_count": 35,
     "metadata": {},
     "output_type": "execute_result"
    }
   ],
   "source": [
    "analyzer.polarity_scores('In the event you run into someone you know has  mental illness,do you whisper to him because you.')"
   ]
  },
  {
   "cell_type": "code",
   "execution_count": 36,
   "metadata": {},
   "outputs": [
    {
     "data": {
      "text/plain": [
       "{'compound': 0.0, 'neg': 0.0, 'neu': 1.0, 'pos': 0.0}"
      ]
     },
     "execution_count": 36,
     "metadata": {},
     "output_type": "execute_result"
    }
   ],
   "source": [
    "analyzer.polarity_scores('1 woman can only be impregnated by 1 man in 1 year.Why dont we focus more on male con..')"
   ]
  },
  {
   "cell_type": "markdown",
   "metadata": {},
   "source": [
    "### From the above three samples it is clear that were very neutral in their discussions as the tweets score are neutral polarity status."
   ]
  },
  {
   "cell_type": "code",
   "execution_count": null,
   "metadata": {},
   "outputs": [],
   "source": []
  },
  {
   "cell_type": "code",
   "execution_count": 20,
   "metadata": {},
   "outputs": [],
   "source": [
    "scores = np.zeros(len(tweets))\n",
    "\n",
    "for i, t in enumerate(tweets):\n",
    "    # Extract the text portion of the tweet\n",
    "    text = t['text']\n",
    "    \n",
    "    # Measure the polarity of the tweet\n",
    "    polarity = analyzer.polarity_scores(text)\n",
    "    \n",
    "    # Store the normalized, weighted composite score\n",
    "    scores[i] = polarity['compound']"
   ]
  },
  {
   "cell_type": "code",
   "execution_count": 22,
   "metadata": {},
   "outputs": [],
   "source": [
    "most_positive = np.argmax(scores)\n",
    "most_negative = np.argmin(scores)"
   ]
  },
  {
   "cell_type": "markdown",
   "metadata": {},
   "source": [
    "### Let's Find out what the most negative tweet is"
   ]
  },
  {
   "cell_type": "code",
   "execution_count": 38,
   "metadata": {},
   "outputs": [
    {
     "name": "stdout",
     "output_type": "stream",
     "text": [
      "-0.862 : \"RT @icrbthomas: Those who have suffered under this disease can confirm that cancer is not good, let alone very good, and that a god who say…\"\n"
     ]
    }
   ],
   "source": [
    "print('{0:6.3f} : \"{1}\"'.format(scores[most_negative], tweets[most_negative]['text']))"
   ]
  },
  {
   "cell_type": "markdown",
   "metadata": {},
   "source": [
    "### Alas this tweet has just revealed that cancer is also a major contibutor to mental health in Kenya."
   ]
  },
  {
   "cell_type": "markdown",
   "metadata": {},
   "source": [
    "### This is my smple analysis on the #MentalHealthBillKe tabled to the Kenyan Parliament.\n",
    "### Hope it helps reveal some insights in our quest in acheiving mental health for all.\n",
    "### Regards.."
   ]
  }
 ],
 "metadata": {
  "kernelspec": {
   "display_name": "Python 3",
   "language": "python",
   "name": "python3"
  },
  "language_info": {
   "codemirror_mode": {
    "name": "ipython",
    "version": 3
   },
   "file_extension": ".py",
   "mimetype": "text/x-python",
   "name": "python",
   "nbconvert_exporter": "python",
   "pygments_lexer": "ipython3",
   "version": "3.5.2"
  }
 },
 "nbformat": 4,
 "nbformat_minor": 1
}
